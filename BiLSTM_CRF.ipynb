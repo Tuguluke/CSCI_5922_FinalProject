{
 "cells": [
  {
   "cell_type": "code",
   "execution_count": 1,
   "metadata": {},
   "outputs": [],
   "source": [
    "import pandas as pd \n",
    "import json"
   ]
  },
  {
   "cell_type": "code",
   "execution_count": 3,
   "metadata": {},
   "outputs": [
    {
     "name": "stdout",
     "output_type": "stream",
     "text": [
      "<class 'pandas.core.frame.DataFrame'>\n",
      "Int64Index: 19906 entries, 3119 to 3632\n",
      "Data columns (total 4 columns):\n",
      " #   Column             Non-Null Count  Dtype \n",
      "---  ------             --------------  ----- \n",
      " 0   clean_descrition   19906 non-null  object\n",
      " 1   organization_list  19906 non-null  object\n",
      " 2   skill_list         19906 non-null  object\n",
      " 3   job_title_list     19906 non-null  object\n",
      "dtypes: object(4)\n",
      "memory usage: 777.6+ KB\n"
     ]
    }
   ],
   "source": [
    "df  = pd.read_pickle('job_20k_clean.pkl')\n",
    "df.info()"
   ]
  },
  {
   "cell_type": "code",
   "execution_count": 6,
   "metadata": {},
   "outputs": [],
   "source": [
    "jobs = list(df.clean_descrition)"
   ]
  },
  {
   "cell_type": "code",
   "execution_count": 5,
   "metadata": {},
   "outputs": [],
   "source": [
    "def convert_to_list_then_dict(df_column= None, key_value=str):\n",
    "    value_list = list(df_column)\n",
    "    _ = list(set([item for value_list in value_list for item in value_list]))\n",
    "    return dict.fromkeys(_, key_value)"
   ]
  },
  {
   "cell_type": "code",
   "execution_count": 7,
   "metadata": {},
   "outputs": [],
   "source": [
    "org = convert_to_list_then_dict(df_column=df.organization_list, key_value='C')\n",
    "skill = convert_to_list_then_dict(df_column=df.skill_list, key_value='S')\n",
    "job = convert_to_list_then_dict(df_column=df.job_title_list, key_value='J')"
   ]
  },
  {
   "cell_type": "code",
   "execution_count": 4,
   "metadata": {
    "colab": {
     "base_uri": "https://localhost:8080/"
    },
    "id": "Vw-32IGQ2elc",
    "outputId": "a7dcac9d-e20e-4036-9ab0-d4c7822b886c"
   },
   "outputs": [
    {
     "name": "stdout",
     "output_type": "stream",
     "text": [
      "Defaulting to user installation because normal site-packages is not writeable\n",
      "\u001b[33mWARNING: Ignoring invalid distribution -otocore (/Users/abulitibu.tuguluke/Library/Python/3.8/lib/python/site-packages)\u001b[0m\n",
      "\u001b[33mWARNING: Ignoring invalid distribution -otocore (/Users/abulitibu.tuguluke/Library/Python/3.8/lib/python/site-packages)\u001b[0m\n",
      "Collecting tf2crf\n",
      "  Downloading tf2crf-0.1.33-py2.py3-none-any.whl (7.3 kB)\n",
      "Collecting tensorflow-addons>=0.8.2\n",
      "  Downloading tensorflow_addons-0.18.0-cp38-cp38-macosx_10_14_x86_64.whl (12.5 MB)\n",
      "\u001b[K     |████████████████████████████████| 12.5 MB 5.9 MB/s eta 0:00:01\n",
      "\u001b[?25hRequirement already satisfied: tensorflow>=2.1.0 in /Users/abulitibu.tuguluke/Library/Python/3.8/lib/python/site-packages (from tf2crf) (2.10.0)\n",
      "Requirement already satisfied: google-pasta>=0.1.1 in /Users/abulitibu.tuguluke/Library/Python/3.8/lib/python/site-packages (from tensorflow>=2.1.0->tf2crf) (0.2.0)\n",
      "Requirement already satisfied: packaging in /Users/abulitibu.tuguluke/Library/Python/3.8/lib/python/site-packages (from tensorflow>=2.1.0->tf2crf) (21.3)\n",
      "Requirement already satisfied: numpy>=1.20 in /Users/abulitibu.tuguluke/Library/Python/3.8/lib/python/site-packages (from tensorflow>=2.1.0->tf2crf) (1.20.2)\n",
      "Requirement already satisfied: keras-preprocessing>=1.1.1 in /Users/abulitibu.tuguluke/Library/Python/3.8/lib/python/site-packages (from tensorflow>=2.1.0->tf2crf) (1.1.2)\n",
      "Requirement already satisfied: h5py>=2.9.0 in /Users/abulitibu.tuguluke/Library/Python/3.8/lib/python/site-packages (from tensorflow>=2.1.0->tf2crf) (3.7.0)\n",
      "Requirement already satisfied: setuptools in /Library/Frameworks/Python.framework/Versions/3.8/lib/python3.8/site-packages (from tensorflow>=2.1.0->tf2crf) (56.0.0)\n",
      "Requirement already satisfied: tensorflow-estimator<2.11,>=2.10.0 in /Users/abulitibu.tuguluke/Library/Python/3.8/lib/python/site-packages (from tensorflow>=2.1.0->tf2crf) (2.10.0)\n",
      "Requirement already satisfied: keras<2.11,>=2.10.0 in /Users/abulitibu.tuguluke/Library/Python/3.8/lib/python/site-packages (from tensorflow>=2.1.0->tf2crf) (2.10.0)\n",
      "Requirement already satisfied: six>=1.12.0 in /Users/abulitibu.tuguluke/Library/Python/3.8/lib/python/site-packages (from tensorflow>=2.1.0->tf2crf) (1.16.0)\n",
      "Requirement already satisfied: grpcio<2.0,>=1.24.3 in /Users/abulitibu.tuguluke/Library/Python/3.8/lib/python/site-packages (from tensorflow>=2.1.0->tf2crf) (1.49.1)\n",
      "Requirement already satisfied: tensorboard<2.11,>=2.10 in /Users/abulitibu.tuguluke/Library/Python/3.8/lib/python/site-packages (from tensorflow>=2.1.0->tf2crf) (2.10.1)\n",
      "Requirement already satisfied: typing-extensions>=3.6.6 in /Users/abulitibu.tuguluke/Library/Python/3.8/lib/python/site-packages (from tensorflow>=2.1.0->tf2crf) (4.0.0)\n",
      "Requirement already satisfied: protobuf<3.20,>=3.9.2 in /Users/abulitibu.tuguluke/Library/Python/3.8/lib/python/site-packages (from tensorflow>=2.1.0->tf2crf) (3.19.6)\n",
      "Requirement already satisfied: tensorflow-io-gcs-filesystem>=0.23.1 in /Users/abulitibu.tuguluke/Library/Python/3.8/lib/python/site-packages (from tensorflow>=2.1.0->tf2crf) (0.27.0)\n",
      "Requirement already satisfied: libclang>=13.0.0 in /Users/abulitibu.tuguluke/Library/Python/3.8/lib/python/site-packages (from tensorflow>=2.1.0->tf2crf) (14.0.6)\n",
      "Requirement already satisfied: gast<=0.4.0,>=0.2.1 in /Users/abulitibu.tuguluke/Library/Python/3.8/lib/python/site-packages (from tensorflow>=2.1.0->tf2crf) (0.4.0)\n",
      "Requirement already satisfied: flatbuffers>=2.0 in /Users/abulitibu.tuguluke/Library/Python/3.8/lib/python/site-packages (from tensorflow>=2.1.0->tf2crf) (22.9.24)\n",
      "Requirement already satisfied: wrapt>=1.11.0 in /Users/abulitibu.tuguluke/Library/Python/3.8/lib/python/site-packages (from tensorflow>=2.1.0->tf2crf) (1.14.0)\n",
      "Requirement already satisfied: absl-py>=1.0.0 in /Users/abulitibu.tuguluke/Library/Python/3.8/lib/python/site-packages (from tensorflow>=2.1.0->tf2crf) (1.2.0)\n",
      "Requirement already satisfied: opt-einsum>=2.3.2 in /Users/abulitibu.tuguluke/Library/Python/3.8/lib/python/site-packages (from tensorflow>=2.1.0->tf2crf) (3.3.0)\n",
      "Requirement already satisfied: termcolor>=1.1.0 in /Library/Frameworks/Python.framework/Versions/3.8/lib/python3.8/site-packages (from tensorflow>=2.1.0->tf2crf) (1.1.0)\n",
      "Requirement already satisfied: astunparse>=1.6.0 in /Users/abulitibu.tuguluke/Library/Python/3.8/lib/python/site-packages (from tensorflow>=2.1.0->tf2crf) (1.6.3)\n",
      "Requirement already satisfied: wheel<1.0,>=0.23.0 in /Users/abulitibu.tuguluke/Library/Python/3.8/lib/python/site-packages (from astunparse>=1.6.0->tensorflow>=2.1.0->tf2crf) (0.36.2)\n",
      "Requirement already satisfied: google-auth<3,>=1.6.3 in /Users/abulitibu.tuguluke/Library/Python/3.8/lib/python/site-packages (from tensorboard<2.11,>=2.10->tensorflow>=2.1.0->tf2crf) (2.12.0)\n",
      "Requirement already satisfied: tensorboard-data-server<0.7.0,>=0.6.0 in /Users/abulitibu.tuguluke/Library/Python/3.8/lib/python/site-packages (from tensorboard<2.11,>=2.10->tensorflow>=2.1.0->tf2crf) (0.6.1)\n",
      "Requirement already satisfied: tensorboard-plugin-wit>=1.6.0 in /Users/abulitibu.tuguluke/Library/Python/3.8/lib/python/site-packages (from tensorboard<2.11,>=2.10->tensorflow>=2.1.0->tf2crf) (1.8.1)\n",
      "Requirement already satisfied: werkzeug>=1.0.1 in /Users/abulitibu.tuguluke/Library/Python/3.8/lib/python/site-packages (from tensorboard<2.11,>=2.10->tensorflow>=2.1.0->tf2crf) (2.2.2)\n",
      "Requirement already satisfied: markdown>=2.6.8 in /Users/abulitibu.tuguluke/Library/Python/3.8/lib/python/site-packages (from tensorboard<2.11,>=2.10->tensorflow>=2.1.0->tf2crf) (3.4.1)\n",
      "Requirement already satisfied: google-auth-oauthlib<0.5,>=0.4.1 in /Users/abulitibu.tuguluke/Library/Python/3.8/lib/python/site-packages (from tensorboard<2.11,>=2.10->tensorflow>=2.1.0->tf2crf) (0.4.6)\n",
      "Requirement already satisfied: requests<3,>=2.21.0 in /Users/abulitibu.tuguluke/Library/Python/3.8/lib/python/site-packages (from tensorboard<2.11,>=2.10->tensorflow>=2.1.0->tf2crf) (2.25.1)\n",
      "Requirement already satisfied: rsa<5,>=3.1.4 in /Library/Frameworks/Python.framework/Versions/3.8/lib/python3.8/site-packages (from google-auth<3,>=1.6.3->tensorboard<2.11,>=2.10->tensorflow>=2.1.0->tf2crf) (4.7.2)\n",
      "Requirement already satisfied: cachetools<6.0,>=2.0.0 in /Library/Frameworks/Python.framework/Versions/3.8/lib/python3.8/site-packages (from google-auth<3,>=1.6.3->tensorboard<2.11,>=2.10->tensorflow>=2.1.0->tf2crf) (4.2.2)\n",
      "Requirement already satisfied: pyasn1-modules>=0.2.1 in /Users/abulitibu.tuguluke/Library/Python/3.8/lib/python/site-packages (from google-auth<3,>=1.6.3->tensorboard<2.11,>=2.10->tensorflow>=2.1.0->tf2crf) (0.2.8)\n",
      "Requirement already satisfied: requests-oauthlib>=0.7.0 in /Users/abulitibu.tuguluke/Library/Python/3.8/lib/python/site-packages (from google-auth-oauthlib<0.5,>=0.4.1->tensorboard<2.11,>=2.10->tensorflow>=2.1.0->tf2crf) (1.3.1)\n",
      "Requirement already satisfied: importlib-metadata>=4.4 in /Users/abulitibu.tuguluke/Library/Python/3.8/lib/python/site-packages (from markdown>=2.6.8->tensorboard<2.11,>=2.10->tensorflow>=2.1.0->tf2crf) (4.12.0)\n",
      "Requirement already satisfied: zipp>=0.5 in /Users/abulitibu.tuguluke/Library/Python/3.8/lib/python/site-packages (from importlib-metadata>=4.4->markdown>=2.6.8->tensorboard<2.11,>=2.10->tensorflow>=2.1.0->tf2crf) (3.8.1)\n",
      "Requirement already satisfied: pyasn1<0.5.0,>=0.4.6 in /Library/Frameworks/Python.framework/Versions/3.8/lib/python3.8/site-packages (from pyasn1-modules>=0.2.1->google-auth<3,>=1.6.3->tensorboard<2.11,>=2.10->tensorflow>=2.1.0->tf2crf) (0.4.8)\n",
      "Requirement already satisfied: certifi>=2017.4.17 in /Users/abulitibu.tuguluke/Library/Python/3.8/lib/python/site-packages (from requests<3,>=2.21.0->tensorboard<2.11,>=2.10->tensorflow>=2.1.0->tf2crf) (2020.12.5)\n",
      "Requirement already satisfied: chardet<5,>=3.0.2 in /Users/abulitibu.tuguluke/Library/Python/3.8/lib/python/site-packages (from requests<3,>=2.21.0->tensorboard<2.11,>=2.10->tensorflow>=2.1.0->tf2crf) (4.0.0)\n",
      "Requirement already satisfied: urllib3<1.27,>=1.21.1 in /Users/abulitibu.tuguluke/Library/Python/3.8/lib/python/site-packages (from requests<3,>=2.21.0->tensorboard<2.11,>=2.10->tensorflow>=2.1.0->tf2crf) (1.26.4)\n",
      "Requirement already satisfied: idna<3,>=2.5 in /Users/abulitibu.tuguluke/Library/Python/3.8/lib/python/site-packages (from requests<3,>=2.21.0->tensorboard<2.11,>=2.10->tensorflow>=2.1.0->tf2crf) (2.10)\n",
      "Requirement already satisfied: oauthlib>=3.0.0 in /Users/abulitibu.tuguluke/Library/Python/3.8/lib/python/site-packages (from requests-oauthlib>=0.7.0->google-auth-oauthlib<0.5,>=0.4.1->tensorboard<2.11,>=2.10->tensorflow>=2.1.0->tf2crf) (3.2.0)\n"
     ]
    },
    {
     "name": "stdout",
     "output_type": "stream",
     "text": [
      "Collecting typeguard>=2.7\n",
      "  Downloading typeguard-2.13.3-py3-none-any.whl (17 kB)\n",
      "Requirement already satisfied: MarkupSafe>=2.1.1 in /Users/abulitibu.tuguluke/Library/Python/3.8/lib/python/site-packages (from werkzeug>=1.0.1->tensorboard<2.11,>=2.10->tensorflow>=2.1.0->tf2crf) (2.1.1)\n",
      "Requirement already satisfied: pyparsing!=3.0.5,>=2.0.2 in /Users/abulitibu.tuguluke/Library/Python/3.8/lib/python/site-packages (from packaging->tensorflow>=2.1.0->tf2crf) (3.0.6)\n",
      "\u001b[33mWARNING: Ignoring invalid distribution -otocore (/Users/abulitibu.tuguluke/Library/Python/3.8/lib/python/site-packages)\u001b[0m\n",
      "Installing collected packages: typeguard, tensorflow-addons, tf2crf\n",
      "\u001b[33mWARNING: Ignoring invalid distribution -otocore (/Users/abulitibu.tuguluke/Library/Python/3.8/lib/python/site-packages)\u001b[0m\n",
      "\u001b[33mWARNING: Ignoring invalid distribution -otocore (/Users/abulitibu.tuguluke/Library/Python/3.8/lib/python/site-packages)\u001b[0m\n",
      "\u001b[33mWARNING: Ignoring invalid distribution -otocore (/Users/abulitibu.tuguluke/Library/Python/3.8/lib/python/site-packages)\u001b[0m\n",
      "Successfully installed tensorflow-addons-0.18.0 tf2crf-0.1.33 typeguard-2.13.3\n",
      "\u001b[33mWARNING: Ignoring invalid distribution -otocore (/Users/abulitibu.tuguluke/Library/Python/3.8/lib/python/site-packages)\u001b[0m\n",
      "\u001b[33mWARNING: Ignoring invalid distribution -otocore (/Users/abulitibu.tuguluke/Library/Python/3.8/lib/python/site-packages)\u001b[0m\n",
      "\u001b[33mWARNING: Ignoring invalid distribution -otocore (/Users/abulitibu.tuguluke/Library/Python/3.8/lib/python/site-packages)\u001b[0m\n",
      "\u001b[33mWARNING: You are using pip version 21.2.4; however, version 22.3.1 is available.\n",
      "You should consider upgrading via the '/Library/Frameworks/Python.framework/Versions/3.8/bin/python3.8 -m pip install --upgrade pip' command.\u001b[0m\n"
     ]
    }
   ],
   "source": [
    "!pip install tf2crf"
   ]
  },
  {
   "cell_type": "code",
   "execution_count": 8,
   "metadata": {
    "colab": {
     "base_uri": "https://localhost:8080/"
    },
    "id": "s9oqdeeI87yH",
    "outputId": "32fc6e46-7bc4-41fa-f136-0480a3dd2085"
   },
   "outputs": [
    {
     "name": "stdout",
     "output_type": "stream",
     "text": [
      "Defaulting to user installation because normal site-packages is not writeable\n",
      "\u001b[33mWARNING: Ignoring invalid distribution -otocore (/Users/abulitibu.tuguluke/Library/Python/3.8/lib/python/site-packages)\u001b[0m\n",
      "\u001b[33mWARNING: Ignoring invalid distribution -otocore (/Users/abulitibu.tuguluke/Library/Python/3.8/lib/python/site-packages)\u001b[0m\n",
      "Requirement already satisfied: scikit-learn<0.24 in /Users/abulitibu.tuguluke/Library/Python/3.8/lib/python/site-packages (0.23.2)\n",
      "Requirement already satisfied: numpy>=1.13.3 in /Users/abulitibu.tuguluke/Library/Python/3.8/lib/python/site-packages (from scikit-learn<0.24) (1.20.2)\n",
      "Requirement already satisfied: threadpoolctl>=2.0.0 in /Users/abulitibu.tuguluke/Library/Python/3.8/lib/python/site-packages (from scikit-learn<0.24) (2.2.0)\n",
      "Requirement already satisfied: scipy>=0.19.1 in /Users/abulitibu.tuguluke/Library/Python/3.8/lib/python/site-packages (from scikit-learn<0.24) (1.7.1)\n",
      "Requirement already satisfied: joblib>=0.11 in /Users/abulitibu.tuguluke/Library/Python/3.8/lib/python/site-packages (from scikit-learn<0.24) (1.1.0)\n",
      "\u001b[33mWARNING: Ignoring invalid distribution -otocore (/Users/abulitibu.tuguluke/Library/Python/3.8/lib/python/site-packages)\u001b[0m\n",
      "\u001b[33mWARNING: Ignoring invalid distribution -otocore (/Users/abulitibu.tuguluke/Library/Python/3.8/lib/python/site-packages)\u001b[0m\n",
      "\u001b[33mWARNING: Ignoring invalid distribution -otocore (/Users/abulitibu.tuguluke/Library/Python/3.8/lib/python/site-packages)\u001b[0m\n",
      "\u001b[33mWARNING: Ignoring invalid distribution -otocore (/Users/abulitibu.tuguluke/Library/Python/3.8/lib/python/site-packages)\u001b[0m\n",
      "\u001b[33mWARNING: You are using pip version 21.2.4; however, version 22.3.1 is available.\n",
      "You should consider upgrading via the '/Library/Frameworks/Python.framework/Versions/3.8/bin/python3.8 -m pip install --upgrade pip' command.\u001b[0m\n",
      "Note: you may need to restart the kernel to use updated packages.\n"
     ]
    }
   ],
   "source": [
    "pip install -U 'scikit-learn<0.24'"
   ]
  },
  {
   "cell_type": "code",
   "execution_count": 9,
   "metadata": {
    "id": "yaYxWTKuj2Wz"
   },
   "outputs": [],
   "source": [
    "%matplotlib inline\n",
    "import matplotlib.pyplot as plt\n",
    "plt.style.use('ggplot')\n",
    "\n",
    "from itertools import chain\n",
    "import numpy as np\n",
    "\n",
    "import nltk\n",
    "import sklearn\n",
    "import scipy.stats\n",
    "from sklearn.metrics import make_scorer\n",
    "from sklearn.model_selection import cross_val_score\n",
    "from nltk.tokenize import word_tokenize\n",
    "import numpy as np\n",
    "\n",
    "import keras \n",
    "from tf2crf import CRF \n",
    "from tf2crf import ModelWithCRFLoss\n",
    "\n",
    "from keras.models import Sequential,Model\n",
    "from keras.layers import LSTM,Bidirectional,Dense,Input,Embedding,TimeDistributed\n",
    "from keras.callbacks import EarlyStopping, ModelCheckpoint"
   ]
  },
  {
   "cell_type": "code",
   "execution_count": 10,
   "metadata": {
    "colab": {
     "base_uri": "https://localhost:8080/"
    },
    "id": "PQn1IoZiUlAL",
    "outputId": "899f5d58-e5d2-49b6-cfd6-2eb58b0f2f26"
   },
   "outputs": [
    {
     "name": "stderr",
     "output_type": "stream",
     "text": [
      "[nltk_data] Error loading punkt: <urlopen error [SSL:\n",
      "[nltk_data]     CERTIFICATE_VERIFY_FAILED] certificate verify failed:\n",
      "[nltk_data]     unable to get local issuer certificate (_ssl.c:1131)>\n",
      "[nltk_data] Error loading averaged_perceptron_tagger: <urlopen error\n",
      "[nltk_data]     [SSL: CERTIFICATE_VERIFY_FAILED] certificate verify\n",
      "[nltk_data]     failed: unable to get local issuer certificate\n",
      "[nltk_data]     (_ssl.c:1131)>\n"
     ]
    },
    {
     "data": {
      "text/plain": [
       "False"
      ]
     },
     "execution_count": 10,
     "metadata": {},
     "output_type": "execute_result"
    }
   ],
   "source": [
    "nltk.download('punkt')\n",
    "nltk.download('averaged_perceptron_tagger')"
   ]
  },
  {
   "cell_type": "code",
   "execution_count": 11,
   "metadata": {
    "colab": {
     "base_uri": "https://localhost:8080/"
    },
    "id": "oU7jepWEbPWF",
    "outputId": "5747d9e8-751f-413e-cdea-c74ad289e16f"
   },
   "outputs": [],
   "source": [
    "# from google.colab import drive,files\n",
    "# drive.mount(\"/content/drive\")\n",
    "# dataM='/content/drive/My Drive/Colab Notebooks/MODELS/'\n",
    "# filepath = dataM+'BiLSTM_CRF.ml'"
   ]
  },
  {
   "cell_type": "code",
   "execution_count": 12,
   "metadata": {},
   "outputs": [],
   "source": [
    "# split\n",
    "XTr= jobs[:1500]\n",
    "XVal= jobs[1500:2000]\n",
    "org_b = org\n",
    "skills_b = skill\n",
    "jobs_b = job"
   ]
  },
  {
   "cell_type": "code",
   "execution_count": 13,
   "metadata": {
    "id": "zPBgJgpB0_5u"
   },
   "outputs": [],
   "source": [
    "# XTr=['Google wants a backend developer with good coding skills','There is a position open for machine learning engineer, Meta is looking for people with machine learning background']\n",
    "# XVal=['Amazon is looking for DevOps engineer']\n",
    "# org_b={'google':'C','amazon':'C','meta':'C','microsoft':'C','qualcomm':'C'}\n",
    "# skills_b={'coding':'S','machine':'S','learning':'S'}\n",
    "# jobs_b={'backend':'J','developer':'J','engineer':'J','manager':'J','devops':'J'}\n",
    "\n",
    "def make(X,org_b,skills_b,jobs_b):\n",
    "  big=[]\n",
    "  for sentence in X:\n",
    "    token=word_tokenize(sentence)\n",
    "    small=[]\n",
    "    token_t=nltk.pos_tag(token)\n",
    "    for f,s in token_t:\n",
    "      tag='O'\n",
    "      if f.lower() in org_b:\n",
    "        tag=org_b[f.lower()]\n",
    "      if f.lower() in skills_b:\n",
    "        tag=skills_b[f.lower()]\n",
    "      if f.lower() in jobs_b:\n",
    "        tag=jobs_b[f.lower()]\n",
    "      small.append((f,s,tag))\n",
    "    big.append(small)\n",
    "  return big\n",
    "XTr_=make(XTr,org_b,skills_b,jobs_b)\n",
    "XVal_=make(XVal,org_b,skills_b,jobs_b)"
   ]
  },
  {
   "cell_type": "code",
   "execution_count": null,
   "metadata": {
    "colab": {
     "base_uri": "https://localhost:8080/"
    },
    "id": "uAxs6umsS_VQ",
    "outputId": "dd7313f1-26f3-4a53-9af1-27fda280e3ea"
   },
   "outputs": [
    {
     "name": "stderr",
     "output_type": "stream",
     "text": [
      "IOPub data rate exceeded.\n",
      "The notebook server will temporarily stop sending output\n",
      "to the client in order to avoid crashing it.\n",
      "To change this limit, set the config variable\n",
      "`--NotebookApp.iopub_data_rate_limit`.\n",
      "\n",
      "Current values:\n",
      "NotebookApp.iopub_data_rate_limit=1000000.0 (bytes/sec)\n",
      "NotebookApp.rate_limit_window=3.0 (secs)\n",
      "\n"
     ]
    }
   ],
   "source": [
    "msgLen=10\n",
    "\n",
    "def fixMsg(X):\n",
    "  global msgLen\n",
    "  Xc=[]\n",
    "  for i in range(len(X)):\n",
    "    if len(X[i])<msgLen:\n",
    "      while len(X[i])<msgLen:\n",
    "        X[i].append(('UNK','UNK','UNK'))\n",
    "    elif len(X[i])>msgLen:\n",
    "      temp=X[i]\n",
    "      del X[i]\n",
    "      lb=0;chunk=msgLen\n",
    "      while lb<len(temp):\n",
    "        split=[]\n",
    "        for j in range(lb,lb+chunk):\n",
    "          if j<len(temp):\n",
    "            split.append(temp[j])\n",
    "          else:\n",
    "            split.append(('UNK','UNK','UNK'))\n",
    "        X.append(split)\n",
    "        print(X)\n",
    "        lb+=chunk\n",
    "  return X \n",
    "\n",
    "XTr_t=fixMsg(XTr_)\n",
    "XVal_t=fixMsg(XVal_)"
   ]
  },
  {
   "cell_type": "code",
   "execution_count": 9,
   "metadata": {
    "colab": {
     "base_uri": "https://localhost:8080/"
    },
    "id": "VTeTGZ1TVQGD",
    "outputId": "dc96189a-ac0a-491a-b732-442297b03071"
   },
   "outputs": [
    {
     "name": "stdout",
     "output_type": "stream",
     "text": [
      "[[('Google', 'NNP', 'C'), ('wants', 'VBZ', 'O'), ('a', 'DT', 'O'), ('backend', 'NN', 'J'), ('developer', 'NN', 'J'), ('with', 'IN', 'O'), ('good', 'JJ', 'O'), ('coding', 'NN', 'S'), ('skills', 'NNS', 'O'), ('UNK', 'UNK', 'UNK')], [('There', 'EX', 'O'), ('is', 'VBZ', 'O'), ('a', 'DT', 'O'), ('position', 'NN', 'O'), ('open', 'JJ', 'O'), ('for', 'IN', 'O'), ('machine', 'NN', 'S'), ('learning', 'NN', 'S'), ('engineer', 'NN', 'J'), (',', ',', 'O')], [('Meta', 'NNP', 'C'), ('is', 'VBZ', 'O'), ('looking', 'VBG', 'O'), ('for', 'IN', 'O'), ('people', 'NNS', 'O'), ('with', 'IN', 'O'), ('machine', 'NN', 'S'), ('learning', 'NN', 'S'), ('background', 'NN', 'O'), ('UNK', 'UNK', 'UNK')]]\n",
      "[[('Amazon', 'NNP', 'C'), ('is', 'VBZ', 'O'), ('looking', 'VBG', 'O'), ('for', 'IN', 'O'), ('DevOps', 'NNP', 'J'), ('engineer', 'NN', 'J'), ('UNK', 'UNK', 'UNK'), ('UNK', 'UNK', 'UNK'), ('UNK', 'UNK', 'UNK'), ('UNK', 'UNK', 'UNK')]]\n"
     ]
    }
   ],
   "source": [
    "# for x in XTr_t:\n",
    "#   assert(len(x)==msgLen)\n",
    "# print(XTr_t)\n",
    "# for x in XVal_t:\n",
    "#   assert(len(x)==msgLen)\n",
    "# print(XVal_t)"
   ]
  },
  {
   "cell_type": "code",
   "execution_count": 10,
   "metadata": {
    "colab": {
     "base_uri": "https://localhost:8080/"
    },
    "id": "7lbuTy0bY-R1",
    "outputId": "9e6fdeba-e7bb-4bad-b5a2-3aa9ac8d2628"
   },
   "outputs": [
    {
     "name": "stdout",
     "output_type": "stream",
     "text": [
      "No of tokens words[26] labels[5]\n"
     ]
    }
   ],
   "source": [
    "dict_={}\n",
    "dict_1={}\n",
    "token=1;token1=0\n",
    "for x in XTr_t:\n",
    "  for a,b,c in x:\n",
    "    if a not in dict_:\n",
    "      dict_[a]=token\n",
    "      token=token+1\n",
    "    if c not in dict_1:\n",
    "      if c=='K':\n",
    "        print(a,b,c)\n",
    "      dict_1[c]=token1\n",
    "      token1=token1+1\n",
    "for x in XVal_t:\n",
    "  for a,b,c in x:\n",
    "    if a not in dict_:\n",
    "      dict_[a]=token\n",
    "      token=token+1\n",
    "    if c not in dict_1:\n",
    "      dict_1[c]=token1\n",
    "      token1=token1+1\n",
    "print('No of tokens words[{}] labels[{}]'.format(token,token1))"
   ]
  },
  {
   "cell_type": "code",
   "execution_count": 11,
   "metadata": {
    "id": "-8JNNsTWTyB-"
   },
   "outputs": [],
   "source": [
    "XTr_fin=np.array([[dict_[element[0]] for element in sentence] for sentence in XTr_t])\n",
    "XVal_fin=np.array([[dict_[element[0]] for element in sentence] for sentence in XVal_t])\n",
    "\n",
    "yTr=np.array([[dict_1[element[2]] for element in sentence] for sentence in XTr_t])\n",
    "yVal=np.array([[dict_1[element[2]] for element in sentence] for sentence in XVal_t])"
   ]
  },
  {
   "cell_type": "code",
   "execution_count": 17,
   "metadata": {
    "colab": {
     "base_uri": "https://localhost:8080/"
    },
    "id": "oEeIy0iBq8a0",
    "outputId": "26b63075-43fa-4b02-ce51-08baa731d8ce"
   },
   "outputs": [
    {
     "name": "stdout",
     "output_type": "stream",
     "text": [
      "Model: \"model_1\"\n",
      "_________________________________________________________________\n",
      " Layer (type)                Output Shape              Param #   \n",
      "=================================================================\n",
      " input_2 (InputLayer)        [(None, 10)]              0         \n",
      "                                                                 \n",
      " embedding_1 (Embedding)     (None, 10, 100)           2600      \n",
      "                                                                 \n",
      " bidirectional_1 (Bidirectio  (None, 10, 128)          84480     \n",
      " nal)                                                            \n",
      "                                                                 \n",
      " time_distributed_1 (TimeDis  (None, 10, 32)           4128      \n",
      " tributed)                                                       \n",
      "                                                                 \n",
      " crf_1 (CRF)                 ((None, 10),              190       \n",
      "                              (None, 10, 5),                     \n",
      "                              (None,),                           \n",
      "                              (5, 5))                            \n",
      "                                                                 \n",
      "=================================================================\n",
      "Total params: 91,398\n",
      "Trainable params: 91,398\n",
      "Non-trainable params: 0\n",
      "_________________________________________________________________\n"
     ]
    }
   ],
   "source": [
    "embedding_dim = 100\n",
    "input=Input(shape=(msgLen,))\n",
    "mo=Embedding(input_dim=token,output_dim=embedding_dim)(input)\n",
    "frwd=LSTM(64,return_sequences=True)\n",
    "back=LSTM(64,return_sequences=True,go_backwards=True)\n",
    "mo=Bidirectional(frwd,backward_layer=back)(mo)\n",
    "mo=TimeDistributed(Dense(32,activation='relu'))(mo)\n",
    "output=CRF(units=token1)(mo)\n",
    "mo=Model(input,output)\n",
    "mo.summary()\n",
    "\n",
    "model=ModelWithCRFLoss(mo, sparse_target=True)\n",
    "model.compile(optimizer ='rmsprop')"
   ]
  },
  {
   "cell_type": "code",
   "execution_count": 20,
   "metadata": {
    "colab": {
     "base_uri": "https://localhost:8080/"
    },
    "id": "-brG5azg00_K",
    "outputId": "55d00209-03f2-4eed-cc90-ed89374c9ff3"
   },
   "outputs": [
    {
     "name": "stdout",
     "output_type": "stream",
     "text": [
      "Epoch 1/10\n",
      "3/3 [==============================] - 0s 53ms/step - loss: 9.1587 - accuracy: 0.6333 - val_loss_val: 13.3487 - val_val_accuracy: 0.3000\n",
      "Epoch 2/10\n",
      "3/3 [==============================] - 0s 46ms/step - loss: 8.7443 - accuracy: 0.6667 - val_loss_val: 12.4344 - val_val_accuracy: 0.3000\n",
      "Epoch 3/10\n",
      "3/3 [==============================] - 0s 49ms/step - loss: 8.3405 - accuracy: 0.7000 - val_loss_val: 12.7442 - val_val_accuracy: 0.3000\n",
      "Epoch 4/10\n",
      "3/3 [==============================] - 0s 87ms/step - loss: 7.9729 - accuracy: 0.6667 - val_loss_val: 12.0016 - val_val_accuracy: 0.5000\n",
      "Epoch 5/10\n",
      "3/3 [==============================] - 0s 85ms/step - loss: 7.5169 - accuracy: 0.6667 - val_loss_val: 11.9756 - val_val_accuracy: 0.5000\n",
      "Epoch 6/10\n",
      "3/3 [==============================] - 0s 79ms/step - loss: 7.1073 - accuracy: 0.6667 - val_loss_val: 11.1732 - val_val_accuracy: 0.6000\n",
      "Epoch 7/10\n",
      "3/3 [==============================] - 0s 64ms/step - loss: 6.7168 - accuracy: 0.7000 - val_loss_val: 10.8145 - val_val_accuracy: 0.6000\n",
      "Epoch 8/10\n",
      "3/3 [==============================] - 0s 48ms/step - loss: 6.2470 - accuracy: 0.7667 - val_loss_val: 10.0447 - val_val_accuracy: 0.6000\n",
      "Epoch 9/10\n",
      "3/3 [==============================] - 0s 33ms/step - loss: 5.9383 - accuracy: 0.7333 - val_loss_val: 9.8933 - val_val_accuracy: 0.6000\n",
      "Epoch 10/10\n",
      "3/3 [==============================] - 0s 33ms/step - loss: 5.5256 - accuracy: 0.8667 - val_loss_val: 9.4580 - val_val_accuracy: 0.6000\n"
     ]
    }
   ],
   "source": [
    "es = EarlyStopping(monitor = \"val_loss_val\", mode = \"min\", verbose = True, restore_best_weights=True, patience = 1)\n",
    "cp = ModelCheckpoint(filepath,monitor=\"val_loss_val\",mode = \"min\",verbose=True,save_best_only=True)\n",
    "\n",
    "# history = model.fit(XTr_fin,yTr,validation_data=[XVal_fin,yVal],epochs=2,batch_size=1,callbacks=[cp,es])\n",
    "history = model.fit(XTr_fin,yTr,epochs=10,validation_data=[XVal_fin,yVal],batch_size=1)"
   ]
  },
  {
   "cell_type": "code",
   "execution_count": 21,
   "metadata": {
    "colab": {
     "base_uri": "https://localhost:8080/",
     "height": 517
    },
    "id": "BE9s4e54hbFd",
    "outputId": "80c3734a-39bb-4079-e354-1e4ec0603c23"
   },
   "outputs": [
    {
     "data": {
      "image/png": "[encoded data removed]",
      "text/plain": [
       "<Figure size 1152x576 with 1 Axes>"
      ]
     },
     "metadata": {},
     "output_type": "display_data"
    }
   ],
   "source": [
    "import matplotlib.pyplot as plt\n",
    "\n",
    "plt.rcParams[\"figure.figsize\"] = (16,8)\n",
    "plt.plot(history.history['val_loss_val'])\n",
    "plt.plot(history.history['loss'])\n",
    "plt.xlabel('Epochs ->')\n",
    "plt.ylabel('Losses ->')\n",
    "plt.title('Losses v/s epochs.')\n",
    "plt.legend(['Val Loss','Train Loss'])\n",
    "plt.show()"
   ]
  },
  {
   "cell_type": "code",
   "execution_count": 22,
   "metadata": {
    "id": "rEHr_ZFFyAdN"
   },
   "outputs": [],
   "source": [
    "dict_1R={}\n",
    "for k,v in dict_1.items():\n",
    "  dict_1R[v]=k"
   ]
  },
  {
   "cell_type": "code",
   "execution_count": 23,
   "metadata": {
    "colab": {
     "base_uri": "https://localhost:8080/"
    },
    "id": "mIukgUGAt1ya",
    "outputId": "4528329b-04a9-48ea-956e-c56c282509d0"
   },
   "outputs": [
    {
     "name": "stdout",
     "output_type": "stream",
     "text": [
      "1/1 [==============================] - 1s 1s/step\n",
      "\n",
      "Amazon O\n",
      "is O\n",
      "looking O\n",
      "for O\n",
      "DevOps O\n",
      "engineer S\n",
      "UNK O\n",
      "UNK UNK\n",
      "UNK UNK\n",
      "UNK UNK\n"
     ]
    }
   ],
   "source": [
    "labels_=model.predict(XVal_fin)\n",
    "i=0 # i-th example from val dataset.\n",
    "cnt=0\n",
    "print()\n",
    "for x in XVal_[0]:\n",
    "  print('{} {}'.format(x[0],dict_1R[labels_[i][cnt]]))\n",
    "  cnt+=1"
   ]
  },
  {
   "cell_type": "code",
   "execution_count": 24,
   "metadata": {
    "colab": {
     "base_uri": "https://localhost:8080/"
    },
    "id": "oneJmZ-CyiQY",
    "outputId": "31e52aaf-e574-4ce7-eda8-455fa80cc989"
   },
   "outputs": [
    {
     "data": {
      "text/plain": [
       "{'C': 0, 'O': 1, 'J': 2, 'S': 3, 'UNK': 4}"
      ]
     },
     "execution_count": 24,
     "metadata": {},
     "output_type": "execute_result"
    }
   ],
   "source": [
    "dict_1"
   ]
  },
  {
   "cell_type": "code",
   "execution_count": 25,
   "metadata": {
    "colab": {
     "base_uri": "https://localhost:8080/"
    },
    "id": "iKr9ym2D3eyS",
    "outputId": "9b366117-fa23-43e7-df18-0643d0665e96"
   },
   "outputs": [
    {
     "name": "stdout",
     "output_type": "stream",
     "text": [
      "Looking in indexes: https://pypi.org/simple, https://us-python.pkg.dev/colab-wheels/public/simple/\n",
      "Requirement already satisfied: sklearn-crfsuite in /usr/local/lib/python3.7/dist-packages (0.3.6)\n",
      "Requirement already satisfied: tqdm>=2.0 in /usr/local/lib/python3.7/dist-packages (from sklearn-crfsuite) (4.64.1)\n",
      "Requirement already satisfied: tabulate in /usr/local/lib/python3.7/dist-packages (from sklearn-crfsuite) (0.8.10)\n",
      "Requirement already satisfied: six in /usr/local/lib/python3.7/dist-packages (from sklearn-crfsuite) (1.15.0)\n",
      "Requirement already satisfied: python-crfsuite>=0.8.3 in /usr/local/lib/python3.7/dist-packages (from sklearn-crfsuite) (0.9.8)\n"
     ]
    }
   ],
   "source": [
    "!pip install sklearn-crfsuite"
   ]
  },
  {
   "cell_type": "code",
   "execution_count": 26,
   "metadata": {
    "colab": {
     "base_uri": "https://localhost:8080/"
    },
    "id": "lx1-vL2MyzBX",
    "outputId": "81724fa8-4d3e-4646-bf06-b1b52a5d7438"
   },
   "outputs": [
    {
     "data": {
      "text/plain": [
       "0.5428571428571429"
      ]
     },
     "execution_count": 26,
     "metadata": {},
     "output_type": "execute_result"
    }
   ],
   "source": [
    "import sklearn_crfsuite\n",
    "from sklearn_crfsuite import scorers\n",
    "from sklearn_crfsuite import metrics\n",
    "\n",
    "def labelIt(yVal):\n",
    "  yVal_lis=[]\n",
    "  for y1 in yVal:\n",
    "    temp=[]\n",
    "    for y2 in y1:\n",
    "      temp.append(dict_1R[y2])\n",
    "    yVal_lis.append(temp)\n",
    "  return yVal_lis \n",
    "\n",
    "yVal_=labelIt(yVal)\n",
    "yPred_=labelIt(labels_)\n",
    "labls=['C','J','S','O','UNK']\n",
    "metrics.flat_f1_score(yVal_,yPred_,average='weighted',labels=labls)"
   ]
  },
  {
   "cell_type": "code",
   "execution_count": 32,
   "metadata": {
    "colab": {
     "base_uri": "https://localhost:8080/"
    },
    "id": "JflAu2op4AQZ",
    "outputId": "e04c0d70-ff81-4aad-fa5e-0c0abf6abd93"
   },
   "outputs": [
    {
     "name": "stdout",
     "output_type": "stream",
     "text": [
      "              precision    recall  f1-score   support\n",
      "\n",
      "           C      0.000     0.000     0.000         1\n",
      "           J      0.000     0.000     0.000         2\n",
      "           S      0.000     0.000     0.000         0\n",
      "           O      0.500     1.000     0.667         3\n",
      "         UNK      1.000     0.750     0.857         4\n",
      "\n",
      "    accuracy                          0.600        10\n",
      "   macro avg      0.300     0.350     0.305        10\n",
      "weighted avg      0.550     0.600     0.543        10\n",
      "\n"
     ]
    }
   ],
   "source": [
    "print(metrics.flat_classification_report(yVal_,yPred_,labels=labls,digits=3))"
   ]
  }
 ],
 "metadata": {
  "colab": {
   "provenance": []
  },
  "kernelspec": {
   "display_name": "Python 3",
   "language": "python",
   "name": "python3"
  },
  "language_info": {
   "codemirror_mode": {
    "name": "ipython",
    "version": 3
   },
   "file_extension": ".py",
   "mimetype": "text/x-python",
   "name": "python",
   "nbconvert_exporter": "python",
   "pygments_lexer": "ipython3",
   "version": "3.8.10"
  }
 },
 "nbformat": 4,
 "nbformat_minor": 1
}
