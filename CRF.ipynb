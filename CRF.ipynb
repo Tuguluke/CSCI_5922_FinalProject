{
  "nbformat": 4,
  "nbformat_minor": 0,
  "metadata": {
    "colab": {
      "provenance": []
    },
    "kernelspec": {
      "name": "python3",
      "display_name": "Python 3"
    },
    "language_info": {
      "name": "python"
    }
  },
  "cells": [
    {
      "cell_type": "code",
      "execution_count": null,
      "metadata": {
        "id": "jYjjz0EnvJx0"
      },
      "outputs": [],
      "source": [
        "%matplotlib inline\n",
        "import matplotlib.pyplot as plt\n",
        "plt.style.use('ggplot')"
      ]
    },
    {
      "cell_type": "code",
      "source": [
        "pip install -U 'scikit-learn<0.24'"
      ],
      "metadata": {
        "colab": {
          "base_uri": "https://localhost:8080/"
        },
        "id": "oyosdHZtzU3r",
        "outputId": "b0af1b9b-cab2-447a-9203-b6520bdd0dfe"
      },
      "execution_count": null,
      "outputs": [
        {
          "output_type": "stream",
          "name": "stdout",
          "text": [
            "Looking in indexes: https://pypi.org/simple, https://us-python.pkg.dev/colab-wheels/public/simple/\n",
            "Requirement already satisfied: scikit-learn<0.24 in /usr/local/lib/python3.7/dist-packages (0.23.2)\n",
            "Requirement already satisfied: numpy>=1.13.3 in /usr/local/lib/python3.7/dist-packages (from scikit-learn<0.24) (1.21.6)\n",
            "Requirement already satisfied: joblib>=0.11 in /usr/local/lib/python3.7/dist-packages (from scikit-learn<0.24) (1.2.0)\n",
            "Requirement already satisfied: scipy>=0.19.1 in /usr/local/lib/python3.7/dist-packages (from scikit-learn<0.24) (1.7.3)\n",
            "Requirement already satisfied: threadpoolctl>=2.0.0 in /usr/local/lib/python3.7/dist-packages (from scikit-learn<0.24) (3.1.0)\n"
          ]
        }
      ]
    },
    {
      "cell_type": "code",
      "source": [
        "from itertools import chain\n",
        "\n",
        "import nltk\n",
        "import sklearn\n",
        "import scipy.stats\n",
        "from sklearn.metrics import make_scorer\n",
        "from sklearn.model_selection import cross_val_score\n",
        "from nltk.tokenize import word_tokenize\n",
        "\n",
        "import sklearn_crfsuite\n",
        "from sklearn_crfsuite import scorers\n",
        "from sklearn_crfsuite import metrics"
      ],
      "metadata": {
        "id": "bicdDftfvYHA"
      },
      "execution_count": null,
      "outputs": []
    },
    {
      "cell_type": "code",
      "source": [
        "nltk.download('punkt')\n",
        "nltk.download('averaged_perceptron_tagger')"
      ],
      "metadata": {
        "colab": {
          "base_uri": "https://localhost:8080/"
        },
        "id": "VtcYIL2N7cgb",
        "outputId": "1c883657-dd45-41e5-c561-7edbc182b1a9"
      },
      "execution_count": null,
      "outputs": [
        {
          "output_type": "stream",
          "name": "stderr",
          "text": [
            "[nltk_data] Downloading package punkt to /root/nltk_data...\n",
            "[nltk_data]   Package punkt is already up-to-date!\n",
            "[nltk_data] Downloading package averaged_perceptron_tagger to\n",
            "[nltk_data]     /root/nltk_data...\n",
            "[nltk_data]   Package averaged_perceptron_tagger is already up-to-\n",
            "[nltk_data]       date!\n"
          ]
        },
        {
          "output_type": "execute_result",
          "data": {
            "text/plain": [
              "True"
            ]
          },
          "metadata": {},
          "execution_count": 5
        }
      ]
    },
    {
      "cell_type": "code",
      "source": [
        "XTr=['Google wants a backend developer with good coding skills','There is a position open for machine learning engineer, Meta is looking for people with machine learning background']\n",
        "XVal=['Amazon is looking for DevOps engineer']\n",
        "org_b={'google':'C','amazon':'C','meta':'C','microsoft':'C','qualcomm':'C'}\n",
        "skills_b={'coding':'S','machine':'S','learning':'S'}\n",
        "jobs_b={'backend':'J','developer':'J','engineer':'J','manager':'J','devops':'J'}\n",
        "\n",
        "def make(X,org_b,skills_b,jobs_b):\n",
        "  big=[]\n",
        "  for sentence in X:\n",
        "    token=word_tokenize(sentence)\n",
        "    small=[]\n",
        "    token_t=nltk.pos_tag(token)\n",
        "    for f,s in token_t:\n",
        "      tag='O'\n",
        "      if f.lower() in org_b:\n",
        "        tag=org_b[f.lower()]\n",
        "      if f.lower() in skills_b:\n",
        "        tag=skills_b[f.lower()]\n",
        "      if f.lower() in jobs_b:\n",
        "        tag=jobs_b[f.lower()]\n",
        "      small.append((f,s,tag))\n",
        "    big.append(small)\n",
        "  return big\n",
        "XTr_=make(XTr,org_b,skills_b,jobs_b)\n",
        "XVal_=make(XVal,org_b,skills_b,jobs_b)"
      ],
      "metadata": {
        "id": "zPBgJgpB0_5u"
      },
      "execution_count": null,
      "outputs": []
    },
    {
      "cell_type": "code",
      "source": [
        "def getfeatures(dat,i):\n",
        "  word=dat[i][0]\n",
        "  postag=dat[i][1]\n",
        "  features = {\n",
        "        'bias': 1.0,\n",
        "        'word.lower()': word.lower(),\n",
        "        'word[-3:]': word[-3:],\n",
        "        'word[-2:]': word[-2:],\n",
        "        'word.isupper()': word.isupper(),\n",
        "        'word.istitle()': word.istitle(),\n",
        "        'word.isdigit()': word.isdigit(),\n",
        "        'postag': postag,\n",
        "        'postag[:2]': postag[:2],\n",
        "  }\n",
        "  if i>0:\n",
        "    word=dat[i-1][0]\n",
        "    postag=dat[i-1][1]\n",
        "    features.update({\n",
        "        '-1:word.lower()': word.lower(),    \n",
        "        '-1:word.isupper()': word.isupper(),\n",
        "        '-1:word.istitle()': word.istitle(),\n",
        "        '-1:postag': postag,\n",
        "        '-1:postag[:2]': postag[:2]\n",
        "    })\n",
        "  else:\n",
        "    features['BOS']=True\n",
        "  if i+1<len(dat):\n",
        "    word=dat[i+1][0]\n",
        "    postag=dat[i+1][1]\n",
        "    features.update({\n",
        "        '+1:word.lower()': word.lower(),    \n",
        "        '+1:word.isupper()': word.isupper(),\n",
        "        '+1:word.istitle()': word.istitle(),\n",
        "        '+1:postag': postag,\n",
        "        '+1:postag[:2]': postag[:2]\n",
        "    })\n",
        "  else:\n",
        "    features['EOS']=True\n",
        "  return features"
      ],
      "metadata": {
        "id": "6K4y12u61GL9"
      },
      "execution_count": null,
      "outputs": []
    },
    {
      "cell_type": "code",
      "source": [
        "def f2features(dat):\n",
        "    return [getfeatures(dat, i) for i in range(len(dat))]\n",
        "\n",
        "def f2labels(dat):\n",
        "    return [label for token, postag, label in dat]\n",
        "\n",
        "def f2tokens(dat):\n",
        "    return [token for token, postag, label in dat]"
      ],
      "metadata": {
        "id": "tLAwsHrSJGsr"
      },
      "execution_count": null,
      "outputs": []
    },
    {
      "cell_type": "code",
      "source": [
        "XTr__=[f2features(x) for x in XTr_]\n",
        "YTr__=[f2labels(x) for x in XTr_]\n",
        "\n",
        "XVal__=[f2features(x) for x in XVal_]\n",
        "YVal__=[f2labels(x) for x in XVal_]"
      ],
      "metadata": {
        "id": "gelVnCDhaBOH"
      },
      "execution_count": null,
      "outputs": []
    },
    {
      "cell_type": "code",
      "source": [
        "crf = sklearn_crfsuite.CRF(\n",
        "    algorithm='lbfgs',\n",
        "    c1=0.1,\n",
        "    c2=0.1,\n",
        "    max_iterations=100,\n",
        "    all_possible_transitions=True\n",
        ")"
      ],
      "metadata": {
        "id": "DWCD0bB9bMh5"
      },
      "execution_count": null,
      "outputs": []
    },
    {
      "cell_type": "code",
      "source": [
        "crf.fit(XTr__, YTr__)"
      ],
      "metadata": {
        "colab": {
          "base_uri": "https://localhost:8080/"
        },
        "id": "_8VzhF27dbZA",
        "outputId": "8b90dbae-0b9f-4fce-8ec4-067417c29c86"
      },
      "execution_count": null,
      "outputs": [
        {
          "output_type": "stream",
          "name": "stderr",
          "text": [
            "/usr/local/lib/python3.7/dist-packages/sklearn/base.py:213: FutureWarning: From version 0.24, get_params will raise an AttributeError if a parameter cannot be retrieved as an instance attribute. Previously it would return None.\n",
            "  FutureWarning)\n"
          ]
        },
        {
          "output_type": "execute_result",
          "data": {
            "text/plain": [
              "CRF(algorithm='lbfgs', all_possible_transitions=True, c1=0.1, c2=0.1,\n",
              "    keep_tempfiles=None, max_iterations=100)"
            ]
          },
          "metadata": {},
          "execution_count": 11
        }
      ]
    },
    {
      "cell_type": "code",
      "source": [
        "labls=crf.classes_\n",
        "labls.remove('O')"
      ],
      "metadata": {
        "id": "4DiSfVAffcpy"
      },
      "execution_count": null,
      "outputs": []
    },
    {
      "cell_type": "code",
      "source": [
        "y_pred = crf.predict(XVal__)\n",
        "metrics.flat_f1_score(YVal__, y_pred,average='weighted', labels=labls)"
      ],
      "metadata": {
        "colab": {
          "base_uri": "https://localhost:8080/"
        },
        "id": "QMwVW9q0d7kF",
        "outputId": "28773499-9e28-439e-84b8-62bec1985dbe"
      },
      "execution_count": null,
      "outputs": [
        {
          "output_type": "stream",
          "name": "stderr",
          "text": [
            "/usr/local/lib/python3.7/dist-packages/sklearn/metrics/_classification.py:1465: UndefinedMetricWarning: F-score is ill-defined and being set to 0.0 in labels with no true nor predicted samples. Use `zero_division` parameter to control this behavior.\n",
            "  average, \"true nor predicted\", 'F-score is', len(true_sum)\n"
          ]
        },
        {
          "output_type": "execute_result",
          "data": {
            "text/plain": [
              "0.3333333333333333"
            ]
          },
          "metadata": {},
          "execution_count": 16
        }
      ]
    },
    {
      "cell_type": "code",
      "source": [
        "print(metrics.flat_classification_report(YVal__, y_pred,digits=3))"
      ],
      "metadata": {
        "colab": {
          "base_uri": "https://localhost:8080/"
        },
        "id": "ltHoopW9fqjS",
        "outputId": "4a510d52-045e-40ff-b123-bc92e5025078"
      },
      "execution_count": null,
      "outputs": [
        {
          "output_type": "stream",
          "name": "stdout",
          "text": [
            "              precision    recall  f1-score   support\n",
            "\n",
            "           C      1.000     1.000     1.000         1\n",
            "           J      0.000     0.000     0.000         2\n",
            "           O      0.600     1.000     0.750         3\n",
            "\n",
            "    accuracy                          0.667         6\n",
            "   macro avg      0.533     0.667     0.583         6\n",
            "weighted avg      0.467     0.667     0.542         6\n",
            "\n"
          ]
        },
        {
          "output_type": "stream",
          "name": "stderr",
          "text": [
            "/usr/local/lib/python3.7/dist-packages/sklearn/utils/validation.py:70: FutureWarning: Pass labels=None as keyword args. From version 0.25 passing these as positional arguments will result in an error\n",
            "  FutureWarning)\n",
            "/usr/local/lib/python3.7/dist-packages/sklearn/metrics/_classification.py:1221: UndefinedMetricWarning: Precision and F-score are ill-defined and being set to 0.0 in labels with no predicted samples. Use `zero_division` parameter to control this behavior.\n",
            "  _warn_prf(average, modifier, msg_start, len(result))\n"
          ]
        }
      ]
    },
    {
      "cell_type": "code",
      "source": [
        "y_pred"
      ],
      "metadata": {
        "colab": {
          "base_uri": "https://localhost:8080/"
        },
        "id": "56vmgNJrgMAL",
        "outputId": "51ff00c8-2da2-4614-e810-2064b54f077b"
      },
      "execution_count": null,
      "outputs": [
        {
          "output_type": "execute_result",
          "data": {
            "text/plain": [
              "[['C', 'O', 'O', 'O', 'O', 'O']]"
            ]
          },
          "metadata": {},
          "execution_count": 19
        }
      ]
    }
  ]
}