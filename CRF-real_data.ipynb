{
 "cells": [
  {
   "cell_type": "code",
   "execution_count": 1,
   "metadata": {},
   "outputs": [],
   "source": [
    "import pandas as pd \n",
    "import json"
   ]
  },
  {
   "cell_type": "code",
   "execution_count": 2,
   "metadata": {},
   "outputs": [
    {
     "name": "stdout",
     "output_type": "stream",
     "text": [
      "<class 'pandas.core.frame.DataFrame'>\n",
      "Int64Index: 19906 entries, 3119 to 3632\n",
      "Data columns (total 4 columns):\n",
      " #   Column             Non-Null Count  Dtype \n",
      "---  ------             --------------  ----- \n",
      " 0   clean_descrition   19906 non-null  object\n",
      " 1   organization_list  19906 non-null  object\n",
      " 2   skill_list         19906 non-null  object\n",
      " 3   job_title_list     19906 non-null  object\n",
      "dtypes: object(4)\n",
      "memory usage: 777.6+ KB\n"
     ]
    }
   ],
   "source": [
    "df  = pd.read_pickle('job_20k_clean.pkl')\n",
    "df.info()"
   ]
  },
  {
   "cell_type": "code",
   "execution_count": 3,
   "metadata": {},
   "outputs": [],
   "source": [
    "jobs = list(df.clean_descrition)"
   ]
  },
  {
   "cell_type": "code",
   "execution_count": 4,
   "metadata": {},
   "outputs": [],
   "source": [
    "def convert_to_list_then_dict(df_column= None, key_value=str):\n",
    "    value_list = list(df_column)\n",
    "    _ = list(set([item for value_list in value_list for item in value_list]))\n",
    "    return dict.fromkeys(_, key_value)"
   ]
  },
  {
   "cell_type": "code",
   "execution_count": 5,
   "metadata": {},
   "outputs": [],
   "source": [
    "org = convert_to_list_then_dict(df_column=df.organization_list, key_value='C')\n",
    "skill = convert_to_list_then_dict(df_column=df.skill_list, key_value='S')\n",
    "job = convert_to_list_then_dict(df_column=df.job_title_list, key_value='J')"
   ]
  },
  {
   "cell_type": "code",
   "execution_count": 6,
   "metadata": {},
   "outputs": [],
   "source": [
    "# def fixed_training_sample(num_samples=int):\n",
    "#     num_samples = num_samples\n",
    "    \n",
    "#     jobs = list(df.clean_descrition[:num_samples])\n",
    "#     org = convert_to_list_then_dict(df_column=df.organization_list, key_value='C')\n",
    "#     skill = convert_to_list_then_dict(df_column=df.skill_list, key_value='S')\n",
    "#     job = convert_to_list_then_dict(df_column=df.job_title_list, key_value='J')\n",
    "    \n",
    "#     return jobs,org,skill,job\n",
    "\n",
    "# jobs,org,skill,job = fixed_training_sample(num_samples=200)"
   ]
  },
  {
   "cell_type": "code",
   "execution_count": 7,
   "metadata": {
    "id": "jYjjz0EnvJx0"
   },
   "outputs": [],
   "source": [
    "%matplotlib inline\n",
    "import matplotlib.pyplot as plt\n",
    "plt.style.use('ggplot')"
   ]
  },
  {
   "cell_type": "code",
   "execution_count": 8,
   "metadata": {
    "colab": {
     "base_uri": "https://localhost:8080/"
    },
    "id": "oyosdHZtzU3r",
    "outputId": "b0af1b9b-cab2-447a-9203-b6520bdd0dfe"
   },
   "outputs": [
    {
     "name": "stdout",
     "output_type": "stream",
     "text": [
      "Defaulting to user installation because normal site-packages is not writeable\n",
      "\u001b[33mWARNING: Ignoring invalid distribution -otocore (/Users/abulitibu.tuguluke/Library/Python/3.8/lib/python/site-packages)\u001b[0m\n",
      "\u001b[33mWARNING: Ignoring invalid distribution -otocore (/Users/abulitibu.tuguluke/Library/Python/3.8/lib/python/site-packages)\u001b[0m\n",
      "Requirement already satisfied: scikit-learn<0.24 in /Users/abulitibu.tuguluke/Library/Python/3.8/lib/python/site-packages (0.23.2)\n",
      "Requirement already satisfied: joblib>=0.11 in /Users/abulitibu.tuguluke/Library/Python/3.8/lib/python/site-packages (from scikit-learn<0.24) (1.1.0)\n",
      "Requirement already satisfied: scipy>=0.19.1 in /Users/abulitibu.tuguluke/Library/Python/3.8/lib/python/site-packages (from scikit-learn<0.24) (1.7.1)\n",
      "Requirement already satisfied: numpy>=1.13.3 in /Users/abulitibu.tuguluke/Library/Python/3.8/lib/python/site-packages (from scikit-learn<0.24) (1.20.2)\n",
      "Requirement already satisfied: threadpoolctl>=2.0.0 in /Users/abulitibu.tuguluke/Library/Python/3.8/lib/python/site-packages (from scikit-learn<0.24) (2.2.0)\n",
      "\u001b[33mWARNING: Ignoring invalid distribution -otocore (/Users/abulitibu.tuguluke/Library/Python/3.8/lib/python/site-packages)\u001b[0m\n",
      "\u001b[33mWARNING: Ignoring invalid distribution -otocore (/Users/abulitibu.tuguluke/Library/Python/3.8/lib/python/site-packages)\u001b[0m\n",
      "\u001b[33mWARNING: Ignoring invalid distribution -otocore (/Users/abulitibu.tuguluke/Library/Python/3.8/lib/python/site-packages)\u001b[0m\n",
      "\u001b[33mWARNING: Ignoring invalid distribution -otocore (/Users/abulitibu.tuguluke/Library/Python/3.8/lib/python/site-packages)\u001b[0m\n",
      "\u001b[33mWARNING: You are using pip version 21.2.4; however, version 22.3.1 is available.\n",
      "You should consider upgrading via the '/Library/Frameworks/Python.framework/Versions/3.8/bin/python3.8 -m pip install --upgrade pip' command.\u001b[0m\n",
      "Note: you may need to restart the kernel to use updated packages.\n"
     ]
    }
   ],
   "source": [
    "pip install -U 'scikit-learn<0.24'"
   ]
  },
  {
   "cell_type": "code",
   "execution_count": 9,
   "metadata": {
    "id": "bicdDftfvYHA"
   },
   "outputs": [],
   "source": [
    "from itertools import chain\n",
    "\n",
    "import nltk\n",
    "import sklearn\n",
    "import scipy.stats\n",
    "from sklearn.metrics import make_scorer\n",
    "from sklearn.model_selection import cross_val_score\n",
    "from nltk.tokenize import word_tokenize\n",
    "\n",
    "import sklearn_crfsuite\n",
    "from sklearn_crfsuite import scorers\n",
    "from sklearn_crfsuite import metrics"
   ]
  },
  {
   "cell_type": "code",
   "execution_count": 10,
   "metadata": {
    "colab": {
     "base_uri": "https://localhost:8080/"
    },
    "id": "VtcYIL2N7cgb",
    "outputId": "1c883657-dd45-41e5-c561-7edbc182b1a9"
   },
   "outputs": [
    {
     "name": "stderr",
     "output_type": "stream",
     "text": [
      "[nltk_data] Error loading punkt: <urlopen error [SSL:\n",
      "[nltk_data]     CERTIFICATE_VERIFY_FAILED] certificate verify failed:\n",
      "[nltk_data]     unable to get local issuer certificate (_ssl.c:1131)>\n",
      "[nltk_data] Error loading averaged_perceptron_tagger: <urlopen error\n",
      "[nltk_data]     [SSL: CERTIFICATE_VERIFY_FAILED] certificate verify\n",
      "[nltk_data]     failed: unable to get local issuer certificate\n",
      "[nltk_data]     (_ssl.c:1131)>\n"
     ]
    },
    {
     "data": {
      "text/plain": [
       "False"
      ]
     },
     "execution_count": 10,
     "metadata": {},
     "output_type": "execute_result"
    }
   ],
   "source": [
    "nltk.download('punkt')\n",
    "nltk.download('averaged_perceptron_tagger')"
   ]
  },
  {
   "cell_type": "code",
   "execution_count": 11,
   "metadata": {},
   "outputs": [],
   "source": [
    "# split\n",
    "XTr= jobs[:1500]\n",
    "XVal= jobs[1500:2000]\n",
    "org_b = org\n",
    "skills_b = skill\n",
    "jobs_b = job"
   ]
  },
  {
   "cell_type": "code",
   "execution_count": 12,
   "metadata": {
    "id": "zPBgJgpB0_5u"
   },
   "outputs": [],
   "source": [
    "# XTr=['Google wants a backend developer with good coding skills','There is a position open for machine learning engineer, Meta is looking for people with machine learning background']\n",
    "# XVal=['Amazon is looking for DevOps engineer']\n",
    "# org_b={'google':'C','amazon':'C','meta':'C','microsoft':'C','qualcomm':'C'}\n",
    "# skills_b={'coding':'S','machine':'S','learning':'S'}\n",
    "# jobs_b={'backend':'J','developer':'J','engineer':'J','manager':'J','devops':'J'}\n",
    "def make(X,org_b,skills_b,jobs_b):\n",
    "  big=[]\n",
    "  for sentence in X:\n",
    "    token=word_tokenize(sentence)\n",
    "    small=[]\n",
    "    token_t=nltk.pos_tag(token)\n",
    "    for f,s in token_t:\n",
    "      tag='O'\n",
    "      if f.lower() in org_b:\n",
    "        tag=org_b[f.lower()]\n",
    "      if f.lower() in skills_b:\n",
    "        tag=skills_b[f.lower()]\n",
    "      if f.lower() in jobs_b:\n",
    "        tag=jobs_b[f.lower()]\n",
    "      small.append((f,s,tag))\n",
    "    big.append(small)\n",
    "  return big\n",
    "XTr_=make(XTr,org_b,skills_b,jobs_b)\n",
    "XVal_=make(XVal,org_b,skills_b,jobs_b)"
   ]
  },
  {
   "cell_type": "code",
   "execution_count": 13,
   "metadata": {
    "id": "6K4y12u61GL9"
   },
   "outputs": [],
   "source": [
    "def getfeatures(dat,i):\n",
    "  word=dat[i][0]\n",
    "  postag=dat[i][1]\n",
    "  features = {\n",
    "        'bias': 1.0,\n",
    "        'word.lower()': word.lower(),\n",
    "        'word[-3:]': word[-3:],\n",
    "        'word[-2:]': word[-2:],\n",
    "        'word.isupper()': word.isupper(),\n",
    "        'word.istitle()': word.istitle(),\n",
    "        'word.isdigit()': word.isdigit(),\n",
    "        'postag': postag,\n",
    "        'postag[:2]': postag[:2],\n",
    "  }\n",
    "  if i>0:\n",
    "    word=dat[i-1][0]\n",
    "    postag=dat[i-1][1]\n",
    "    features.update({\n",
    "        '-1:word.lower()': word.lower(),    \n",
    "        '-1:word.isupper()': word.isupper(),\n",
    "        '-1:word.istitle()': word.istitle(),\n",
    "        '-1:postag': postag,\n",
    "        '-1:postag[:2]': postag[:2]\n",
    "    })\n",
    "  else:\n",
    "    features['BOS']=True\n",
    "  if i+1<len(dat):\n",
    "    word=dat[i+1][0]\n",
    "    postag=dat[i+1][1]\n",
    "    features.update({\n",
    "        '+1:word.lower()': word.lower(),    \n",
    "        '+1:word.isupper()': word.isupper(),\n",
    "        '+1:word.istitle()': word.istitle(),\n",
    "        '+1:postag': postag,\n",
    "        '+1:postag[:2]': postag[:2]\n",
    "    })\n",
    "  else:\n",
    "    features['EOS']=True\n",
    "  return features"
   ]
  },
  {
   "cell_type": "code",
   "execution_count": 14,
   "metadata": {
    "id": "tLAwsHrSJGsr"
   },
   "outputs": [],
   "source": [
    "def f2features(dat):\n",
    "    return [getfeatures(dat, i) for i in range(len(dat))]\n",
    "\n",
    "def f2labels(dat):\n",
    "    return [label for token, postag, label in dat]\n",
    "\n",
    "def f2tokens(dat):\n",
    "    return [token for token, postag, label in dat]"
   ]
  },
  {
   "cell_type": "code",
   "execution_count": 15,
   "metadata": {
    "id": "gelVnCDhaBOH"
   },
   "outputs": [],
   "source": [
    "XTr__=[f2features(x) for x in XTr_]\n",
    "YTr__=[f2labels(x) for x in XTr_]\n",
    "\n",
    "XVal__=[f2features(x) for x in XVal_]\n",
    "YVal__=[f2labels(x) for x in XVal_]"
   ]
  },
  {
   "cell_type": "code",
   "execution_count": 16,
   "metadata": {
    "id": "DWCD0bB9bMh5"
   },
   "outputs": [],
   "source": [
    "crf = sklearn_crfsuite.CRF(\n",
    "    algorithm='lbfgs',\n",
    "    c1=0.1,\n",
    "    c2=0.1,\n",
    "    max_iterations=100,\n",
    "    all_possible_transitions=True\n",
    ")"
   ]
  },
  {
   "cell_type": "code",
   "execution_count": 17,
   "metadata": {
    "colab": {
     "base_uri": "https://localhost:8080/"
    },
    "id": "_8VzhF27dbZA",
    "outputId": "8b90dbae-0b9f-4fce-8ec4-067417c29c86"
   },
   "outputs": [
    {
     "name": "stderr",
     "output_type": "stream",
     "text": [
      "/Users/abulitibu.tuguluke/Library/Python/3.8/lib/python/site-packages/sklearn/base.py:209: FutureWarning: From version 0.24, get_params will raise an AttributeError if a parameter cannot be retrieved as an instance attribute. Previously it would return None.\n",
      "  warnings.warn('From version 0.24, get_params will raise an '\n"
     ]
    },
    {
     "data": {
      "text/plain": [
       "CRF(algorithm='lbfgs', all_possible_transitions=True, c1=0.1, c2=0.1,\n",
       "    keep_tempfiles=None, max_iterations=100)"
      ]
     },
     "execution_count": 17,
     "metadata": {},
     "output_type": "execute_result"
    }
   ],
   "source": [
    "crf.fit(XTr__, YTr__)"
   ]
  },
  {
   "cell_type": "code",
   "execution_count": 18,
   "metadata": {
    "id": "4DiSfVAffcpy"
   },
   "outputs": [],
   "source": [
    "labls=crf.classes_\n",
    "labls.remove('O')"
   ]
  },
  {
   "cell_type": "code",
   "execution_count": 19,
   "metadata": {
    "colab": {
     "base_uri": "https://localhost:8080/"
    },
    "id": "QMwVW9q0d7kF",
    "outputId": "28773499-9e28-439e-84b8-62bec1985dbe"
   },
   "outputs": [
    {
     "data": {
      "text/plain": [
       "0.9991524165201194"
      ]
     },
     "execution_count": 19,
     "metadata": {},
     "output_type": "execute_result"
    }
   ],
   "source": [
    "y_pred = crf.predict(XVal__)\n",
    "metrics.flat_f1_score(YVal__, y_pred,average='weighted', labels=labls)"
   ]
  },
  {
   "cell_type": "code",
   "execution_count": 20,
   "metadata": {
    "colab": {
     "base_uri": "https://localhost:8080/"
    },
    "id": "ltHoopW9fqjS",
    "outputId": "4a510d52-045e-40ff-b123-bc92e5025078"
   },
   "outputs": [
    {
     "name": "stderr",
     "output_type": "stream",
     "text": [
      "/Users/abulitibu.tuguluke/Library/Python/3.8/lib/python/site-packages/sklearn/utils/validation.py:67: FutureWarning: Pass labels=None as keyword args. From version 0.25 passing these as positional arguments will result in an error\n",
      "  warnings.warn(\"Pass {} as keyword args. From version 0.25 \"\n"
     ]
    },
    {
     "name": "stdout",
     "output_type": "stream",
     "text": [
      "              precision    recall  f1-score   support\n",
      "\n",
      "           C      1.000     0.989     0.995        94\n",
      "           J      1.000     1.000     1.000    109419\n",
      "           O      0.995     0.998     0.997     37966\n",
      "           S      0.999     0.996     0.998     41669\n",
      "\n",
      "    accuracy                          0.999    189148\n",
      "   macro avg      0.998     0.996     0.997    189148\n",
      "weighted avg      0.999     0.999     0.999    189148\n",
      "\n"
     ]
    }
   ],
   "source": [
    "print(metrics.flat_classification_report(YVal__, y_pred,digits=3))"
   ]
  },
  {
   "cell_type": "code",
   "execution_count": null,
   "metadata": {},
   "outputs": [],
   "source": []
  }
 ],
 "metadata": {
  "colab": {
   "provenance": []
  },
  "kernelspec": {
   "display_name": "Python 3",
   "language": "python",
   "name": "python3"
  },
  "language_info": {
   "codemirror_mode": {
    "name": "ipython",
    "version": 3
   },
   "file_extension": ".py",
   "mimetype": "text/x-python",
   "name": "python",
   "nbconvert_exporter": "python",
   "pygments_lexer": "ipython3",
   "version": "3.8.10"
  }
 },
 "nbformat": 4,
 "nbformat_minor": 1
}
